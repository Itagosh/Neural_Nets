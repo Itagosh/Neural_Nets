{
 "cells": [
  {
   "cell_type": "code",
   "execution_count": 62,
   "id": "5bdb3d72-7b6f-4b67-a354-58eee9bf0bba",
   "metadata": {},
   "outputs": [
    {
     "name": "stdout",
     "output_type": "stream",
     "text": [
      "[[ 0.000000e+00  0.000000e+00  3.090000e-01 ... -2.293387e+01\n",
      "  -2.654785e+01 -2.342693e+01]\n",
      " [ 1.000000e+00  0.000000e+00  3.090000e-01 ... -2.115315e+01\n",
      "  -2.388854e+01 -2.125109e+01]\n",
      " [ 2.000000e+00  0.000000e+00  3.090000e-01 ... -1.908513e+01\n",
      "  -2.324341e+01 -1.995050e+01]\n",
      " ...\n",
      " [ 7.205450e+05  9.990000e+02  4.322000e-01 ... -1.536444e+01\n",
      "  -1.871138e+01 -1.597211e+01]\n",
      " [ 7.205460e+05  9.990000e+02  4.322000e-01 ... -1.472432e+01\n",
      "  -1.807859e+01 -1.534203e+01]\n",
      " [ 7.205470e+05  9.990000e+02  4.322000e-01 ... -1.464110e+01\n",
      "  -1.815946e+01 -1.531628e+01]]\n"
     ]
    }
   ],
   "source": [
    "import pandas as pd\n",
    "import numpy as np\n",
    "\n",
    "# File paths\n",
    "galaxy_properties_path = \"/Users/itamargoshen/Desktop/galactic_properties_data.txt\"\n",
    "omega_matter_path = \"/Users/itamargoshen/Desktop/omega_matter_data.txt\"\n",
    "offsets_lengths_path = \"/Users/itamargoshen/Desktop/offsets_lengths.txt\"\n",
    "\n",
    "# Load galactic properties data\n",
    "galactic_properties_cols = [\n",
    "    \"gas_mass\", \"stellar_mass\", \"black_hole_mass\", \"total_mass\", \"Vmax\", \n",
    "    \"velocity_dispersion\", \"gas_metallicity\", \"stars_metallicity\", \n",
    "    \"star_formation_rate\", \"spin\", \"peculiar_velocity\", \"stellar_radius\", \n",
    "    \"total_radius\", \"Vmax_radius\", \"U\", \"K\", \"g\"\n",
    "]\n",
    "galactic_properties_data = pd.read_csv(galaxy_properties_path, sep='\\s+', comment='#', names=galactic_properties_cols)\n",
    "\n",
    "# Load omega matter data\n",
    "omega_matter_columns = [\"Omega_Matter_of_Simulation\", \"Doesn't_matter_rn1\", \"Doesn't_matter_rn2\", \"Doesn't_matter_rn3\", \"Doesn't_matter_rn4\", \"Doesn't_matter_rn5\"]\n",
    "omega_matter_data = pd.read_csv(omega_matter_path, sep='\\s+', header=None, names=omega_matter_columns)\n",
    "\n",
    "# Load offsets and lengths data\n",
    "offsets_lengths_data = pd.read_csv(offsets_lengths_path, sep='\\s+', comment='#', header=None)\n",
    "offsets_lengths_data.columns = [\"offset\", \"length\"]\n",
    "\n",
    "# Initialize an empty list to store the arrays\n",
    "combined_data = []\n",
    "\n",
    "# Total rows in galactic_properties_data\n",
    "total_rows = len(galactic_properties_data) \n",
    "\n",
    "# Iterate through each offset and length pair\n",
    "for offsets_index, row in offsets_lengths_data.iterrows():\n",
    "    offset = row['offset']\n",
    "    length = row['length']\n",
    "    \n",
    "    # Extract the relevant rows from galactic_properties_data\n",
    "    data_slice = galactic_properties_data.iloc[offset:offset + length].to_numpy()\n",
    "    \n",
    "    # Get the Omega_Matter_of_Simulation value for the current offsets_index\n",
    "    omega_matter_value = omega_matter_data.iloc[offsets_index][\"Omega_Matter_of_Simulation\"]\n",
    "    \n",
    "    # Create the first column: row indices from galactic_properties_data\n",
    "    indices = np.arange(offset, offset + length).reshape(-1, 1)\n",
    "    \n",
    "    # Create the second column: the row index of offsets_lengths_data\n",
    "    offsets_indices = np.full((length, 1), offsets_index)\n",
    "    \n",
    "    # Create the third column: Omega_Matter_of_Simulation value\n",
    "    omega_matter_column = np.full((length, 1), omega_matter_value)\n",
    "    \n",
    "    # Combine the indices and data slices into one array\n",
    "    data_with_indices = np.hstack((indices, offsets_indices, omega_matter_column, data_slice))\n",
    "    \n",
    "    # Append the data with indices to the combined_data list\n",
    "    combined_data.append(data_with_indices)\n",
    "\n",
    "# Convert the list of arrays into one big numpy array\n",
    "combined_data_array = np.vstack(combined_data)\n",
    "\n",
    "print(combined_data_array) #Format: galaxy number| simulation number| omega matter| galaxy properties (see line 10)"
   ]
  },
  {
   "cell_type": "code",
   "execution_count": null,
   "id": "79f6ca19-b337-42fe-9283-e68ee7e454c9",
   "metadata": {},
   "outputs": [],
   "source": []
  }
 ],
 "metadata": {
  "kernelspec": {
   "display_name": "Python 3 (ipykernel)",
   "language": "python",
   "name": "python3"
  },
  "language_info": {
   "codemirror_mode": {
    "name": "ipython",
    "version": 3
   },
   "file_extension": ".py",
   "mimetype": "text/x-python",
   "name": "python",
   "nbconvert_exporter": "python",
   "pygments_lexer": "ipython3",
   "version": "3.11.5"
  }
 },
 "nbformat": 4,
 "nbformat_minor": 5
}
